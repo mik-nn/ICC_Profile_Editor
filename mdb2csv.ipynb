{
  "cells": [
    {
      "cell_type": "markdown",
      "metadata": {
        "id": "view-in-github",
        "colab_type": "text"
      },
      "source": [
        "<a href=\"https://colab.research.google.com/github/mik-nn/ICC_Profile_Editor/blob/main/mdb2csv.ipynb\" target=\"_parent\"><img src=\"https://colab.research.google.com/assets/colab-badge.svg\" alt=\"Open In Colab\"/></a>"
      ]
    },
    {
      "cell_type": "markdown",
      "metadata": {
        "id": "sEr0yqyFCehH"
      },
      "source": [
        "# Конвертер базы данных MS Access (.mdb) в CSV\n",
        "\n",
        "Этот блокнот поможет вам преобразовать таблицы из файла `.mdb` в отдельные файлы `.csv`.\n",
        "\n",
        "**Как использовать:**\n",
        "1.  Нажмите **\"Запустить код\"** (значок ►) в каждой ячейке по очереди, сверху вниз.\n",
        "2.  Дождитесь завершения выполнения каждой ячейки, прежде чем переходить к следующей."
      ]
    },
    {
      "cell_type": "code",
      "execution_count": null,
      "metadata": {
        "colab": {
          "background_save": true
        },
        "id": "uoE4O0Q2ZYgl"
      },
      "outputs": [],
      "source": [
        "from google.colab import drive\n",
        "drive.mount('/content/drive')"
      ]
    },
    {
      "cell_type": "markdown",
      "metadata": {
        "id": "IYdcuCvlCehK"
      },
      "source": [
        "### Шаг 1: Установка необходимых инструментов\n",
        "\n",
        "Эта ячейка установит `mdbtools` — утилиту для работы с файлами MDB в среде Linux, на которой работает Colab, а также библиотеку `pandas_access` для удобной работы в Python. Выполнение может занять около минуты."
      ]
    },
    {
      "cell_type": "code",
      "execution_count": null,
      "metadata": {
        "colab": {
          "background_save": true
        },
        "id": "JYNvCkGTCehK"
      },
      "outputs": [],
      "source": [
        "print(\"Установка mdbtools и pandas_access...\")\n",
        "!sudo apt-get -y -qq install mdbtools > /dev/null\n",
        "!pip install -q pandas_access\n",
        "print(\"Установка завершена!\")"
      ]
    },
    {
      "cell_type": "code",
      "execution_count": null,
      "metadata": {
        "colab": {
          "background_save": true
        },
        "id": "4p6D1LvK4lCX"
      },
      "outputs": [],
      "source": []
    },
    {
      "cell_type": "markdown",
      "metadata": {
        "id": "RXHb50-BCehL"
      },
      "source": [
        "### Шаг 2: Загрузка вашего файла .mdb\n",
        "\n",
        "Запустите следующую ячейку. Появится кнопка для выбора файла. **Выберите ваш файл `Profile.mdb`** и дождитесь, пока он полностью загрузится (индикатор загрузки достигнет 100%)."
      ]
    },
    {
      "cell_type": "code",
      "execution_count": null,
      "metadata": {
        "colab": {
          "background_save": true,
          "base_uri": "https://localhost:8080/",
          "height": 128
        },
        "id": "ceNSSgGyCehL",
        "outputId": "3b57f33c-c309-4dcc-dcc5-d26f6db41583"
      },
      "outputs": [
        {
          "name": "stdout",
          "output_type": "stream",
          "text": [
            "Пожалуйста, выберите ваш .mdb файл для загрузки.\n"
          ]
        },
        {
          "data": {
            "text/html": [
              "\n",
              "     <input type=\"file\" id=\"files-27eecbce-0bdd-4e59-8bb1-c6f21bf5dc05\" name=\"files[]\" multiple disabled\n",
              "        style=\"border:none\" />\n",
              "     <output id=\"result-27eecbce-0bdd-4e59-8bb1-c6f21bf5dc05\">\n",
              "      Upload widget is only available when the cell has been executed in the\n",
              "      current browser session. Please rerun this cell to enable.\n",
              "      </output>\n",
              "      <script>// Copyright 2017 Google LLC\n",
              "//\n",
              "// Licensed under the Apache License, Version 2.0 (the \"License\");\n",
              "// you may not use this file except in compliance with the License.\n",
              "// You may obtain a copy of the License at\n",
              "//\n",
              "//      http://www.apache.org/licenses/LICENSE-2.0\n",
              "//\n",
              "// Unless required by applicable law or agreed to in writing, software\n",
              "// distributed under the License is distributed on an \"AS IS\" BASIS,\n",
              "// WITHOUT WARRANTIES OR CONDITIONS OF ANY KIND, either express or implied.\n",
              "// See the License for the specific language governing permissions and\n",
              "// limitations under the License.\n",
              "\n",
              "/**\n",
              " * @fileoverview Helpers for google.colab Python module.\n",
              " */\n",
              "(function(scope) {\n",
              "function span(text, styleAttributes = {}) {\n",
              "  const element = document.createElement('span');\n",
              "  element.textContent = text;\n",
              "  for (const key of Object.keys(styleAttributes)) {\n",
              "    element.style[key] = styleAttributes[key];\n",
              "  }\n",
              "  return element;\n",
              "}\n",
              "\n",
              "// Max number of bytes which will be uploaded at a time.\n",
              "const MAX_PAYLOAD_SIZE = 100 * 1024;\n",
              "\n",
              "function _uploadFiles(inputId, outputId) {\n",
              "  const steps = uploadFilesStep(inputId, outputId);\n",
              "  const outputElement = document.getElementById(outputId);\n",
              "  // Cache steps on the outputElement to make it available for the next call\n",
              "  // to uploadFilesContinue from Python.\n",
              "  outputElement.steps = steps;\n",
              "\n",
              "  return _uploadFilesContinue(outputId);\n",
              "}\n",
              "\n",
              "// This is roughly an async generator (not supported in the browser yet),\n",
              "// where there are multiple asynchronous steps and the Python side is going\n",
              "// to poll for completion of each step.\n",
              "// This uses a Promise to block the python side on completion of each step,\n",
              "// then passes the result of the previous step as the input to the next step.\n",
              "function _uploadFilesContinue(outputId) {\n",
              "  const outputElement = document.getElementById(outputId);\n",
              "  const steps = outputElement.steps;\n",
              "\n",
              "  const next = steps.next(outputElement.lastPromiseValue);\n",
              "  return Promise.resolve(next.value.promise).then((value) => {\n",
              "    // Cache the last promise value to make it available to the next\n",
              "    // step of the generator.\n",
              "    outputElement.lastPromiseValue = value;\n",
              "    return next.value.response;\n",
              "  });\n",
              "}\n",
              "\n",
              "/**\n",
              " * Generator function which is called between each async step of the upload\n",
              " * process.\n",
              " * @param {string} inputId Element ID of the input file picker element.\n",
              " * @param {string} outputId Element ID of the output display.\n",
              " * @return {!Iterable<!Object>} Iterable of next steps.\n",
              " */\n",
              "function* uploadFilesStep(inputId, outputId) {\n",
              "  const inputElement = document.getElementById(inputId);\n",
              "  inputElement.disabled = false;\n",
              "\n",
              "  const outputElement = document.getElementById(outputId);\n",
              "  outputElement.innerHTML = '';\n",
              "\n",
              "  const pickedPromise = new Promise((resolve) => {\n",
              "    inputElement.addEventListener('change', (e) => {\n",
              "      resolve(e.target.files);\n",
              "    });\n",
              "  });\n",
              "\n",
              "  const cancel = document.createElement('button');\n",
              "  inputElement.parentElement.appendChild(cancel);\n",
              "  cancel.textContent = 'Cancel upload';\n",
              "  const cancelPromise = new Promise((resolve) => {\n",
              "    cancel.onclick = () => {\n",
              "      resolve(null);\n",
              "    };\n",
              "  });\n",
              "\n",
              "  // Wait for the user to pick the files.\n",
              "  const files = yield {\n",
              "    promise: Promise.race([pickedPromise, cancelPromise]),\n",
              "    response: {\n",
              "      action: 'starting',\n",
              "    }\n",
              "  };\n",
              "\n",
              "  cancel.remove();\n",
              "\n",
              "  // Disable the input element since further picks are not allowed.\n",
              "  inputElement.disabled = true;\n",
              "\n",
              "  if (!files) {\n",
              "    return {\n",
              "      response: {\n",
              "        action: 'complete',\n",
              "      }\n",
              "    };\n",
              "  }\n",
              "\n",
              "  for (const file of files) {\n",
              "    const li = document.createElement('li');\n",
              "    li.append(span(file.name, {fontWeight: 'bold'}));\n",
              "    li.append(span(\n",
              "        `(${file.type || 'n/a'}) - ${file.size} bytes, ` +\n",
              "        `last modified: ${\n",
              "            file.lastModifiedDate ? file.lastModifiedDate.toLocaleDateString() :\n",
              "                                    'n/a'} - `));\n",
              "    const percent = span('0% done');\n",
              "    li.appendChild(percent);\n",
              "\n",
              "    outputElement.appendChild(li);\n",
              "\n",
              "    const fileDataPromise = new Promise((resolve) => {\n",
              "      const reader = new FileReader();\n",
              "      reader.onload = (e) => {\n",
              "        resolve(e.target.result);\n",
              "      };\n",
              "      reader.readAsArrayBuffer(file);\n",
              "    });\n",
              "    // Wait for the data to be ready.\n",
              "    let fileData = yield {\n",
              "      promise: fileDataPromise,\n",
              "      response: {\n",
              "        action: 'continue',\n",
              "      }\n",
              "    };\n",
              "\n",
              "    // Use a chunked sending to avoid message size limits. See b/62115660.\n",
              "    let position = 0;\n",
              "    do {\n",
              "      const length = Math.min(fileData.byteLength - position, MAX_PAYLOAD_SIZE);\n",
              "      const chunk = new Uint8Array(fileData, position, length);\n",
              "      position += length;\n",
              "\n",
              "      const base64 = btoa(String.fromCharCode.apply(null, chunk));\n",
              "      yield {\n",
              "        response: {\n",
              "          action: 'append',\n",
              "          file: file.name,\n",
              "          data: base64,\n",
              "        },\n",
              "      };\n",
              "\n",
              "      let percentDone = fileData.byteLength === 0 ?\n",
              "          100 :\n",
              "          Math.round((position / fileData.byteLength) * 100);\n",
              "      percent.textContent = `${percentDone}% done`;\n",
              "\n",
              "    } while (position < fileData.byteLength);\n",
              "  }\n",
              "\n",
              "  // All done.\n",
              "  yield {\n",
              "    response: {\n",
              "      action: 'complete',\n",
              "    }\n",
              "  };\n",
              "}\n",
              "\n",
              "scope.google = scope.google || {};\n",
              "scope.google.colab = scope.google.colab || {};\n",
              "scope.google.colab._files = {\n",
              "  _uploadFiles,\n",
              "  _uploadFilesContinue,\n",
              "};\n",
              "})(self);\n",
              "</script> "
            ],
            "text/plain": [
              "<IPython.core.display.HTML object>"
            ]
          },
          "metadata": {},
          "output_type": "display_data"
        }
      ],
      "source": [
        "from google.colab import files\n",
        "import os\n",
        "\n",
        "print(\"Пожалуйста, выберите ваш .mdb файл для загрузки.\")\n",
        "uploaded = files.upload()\n",
        "\n",
        "if not uploaded:\n",
        "    print(\"\\nВы не загрузили файл. Пожалуйста, запустите ячейку снова и выберите файл.\")\n",
        "else:\n",
        "    mdb_file_name = list(uploaded.keys())[0]\n",
        "    print(f'\\nФайл \"{mdb_file_name}\" успешно загружен!')"
      ]
    },
    {
      "cell_type": "markdown",
      "metadata": {
        "id": "S34pOCYqCehL"
      },
      "source": [
        "### Шаг 3: Конвертация таблиц в CSV\n",
        "\n",
        "Теперь, когда файл загружен, эта ячейка прочитает его, найдет все таблицы и сохранит каждую в отдельный CSV-файл в папку `csv_output`."
      ]
    },
    {
      "cell_type": "code",
      "execution_count": null,
      "metadata": {
        "colab": {
          "base_uri": "https://localhost:8080/"
        },
        "id": "Su6MQBrGCehL",
        "outputId": "3413c101-cc86-42a5-b165-bbbd542ba4e5"
      },
      "outputs": [
        {
          "name": "stdout",
          "output_type": "stream",
          "text": [
            "Найдены таблицы: ~TMPCLP471411, AreaName, CalibrationInfo, ColorMode, ColorsetName, ColorsetUseColor, DBInfo, DefaultInkDot, DeviceProfile, DotSize, HalfToneGroup, HalfToneName, InkColorInfo, InkColorName, InkDotVolume, InkDotVolumeWF, InkMaker, Inkset, InkTypeName, InkVariation, InkVariationName, InputProfile, Lang, MaskDataInfo, MediaGroup, MediaMaterial, MediaName, Model, ModelUseInk, ModelUseSpecialColorset, OutputSetting, Pass, ProfileCodeManage, SeparationName, SpecialColorsetCode, SpecialColorsetName, StatusInkset, UvMode_Localize, Waveform, AliasOutputSettingName, DotType, InkDotVolumeSD, MediaName_MPM, Uv_Illumination\n",
            "\n",
            "Конвертирую таблицу '~TMPCLP471411'...\n",
            " -> Ошибка при конвертации таблицы '~TMPCLP471411'\n",
            "Конвертирую таблицу 'AreaName'...\n",
            " -> Таблица сохранена в файл 'RL_csv_output/AreaName.csv'\n",
            "Конвертирую таблицу 'CalibrationInfo'...\n",
            " -> Таблица сохранена в файл 'RL_csv_output/CalibrationInfo.csv'\n",
            "Конвертирую таблицу 'ColorMode'...\n",
            " -> Таблица сохранена в файл 'RL_csv_output/ColorMode.csv'\n",
            "Конвертирую таблицу 'ColorsetName'...\n",
            " -> Таблица сохранена в файл 'RL_csv_output/ColorsetName.csv'\n",
            "Конвертирую таблицу 'ColorsetUseColor'...\n",
            " -> Таблица сохранена в файл 'RL_csv_output/ColorsetUseColor.csv'\n",
            "Конвертирую таблицу 'DBInfo'...\n",
            " -> Таблица сохранена в файл 'RL_csv_output/DBInfo.csv'\n",
            "Конвертирую таблицу 'DefaultInkDot'...\n",
            " -> Таблица сохранена в файл 'RL_csv_output/DefaultInkDot.csv'\n",
            "Конвертирую таблицу 'DeviceProfile'...\n",
            " -> Таблица сохранена в файл 'RL_csv_output/DeviceProfile.csv'\n",
            "Конвертирую таблицу 'DotSize'...\n",
            " -> Таблица сохранена в файл 'RL_csv_output/DotSize.csv'\n",
            "Конвертирую таблицу 'HalfToneGroup'...\n",
            " -> Таблица сохранена в файл 'RL_csv_output/HalfToneGroup.csv'\n",
            "Конвертирую таблицу 'HalfToneName'...\n",
            " -> Таблица сохранена в файл 'RL_csv_output/HalfToneName.csv'\n",
            "Конвертирую таблицу 'InkColorInfo'...\n",
            " -> Таблица сохранена в файл 'RL_csv_output/InkColorInfo.csv'\n",
            "Конвертирую таблицу 'InkColorName'...\n",
            " -> Таблица сохранена в файл 'RL_csv_output/InkColorName.csv'\n",
            "Конвертирую таблицу 'InkDotVolume'...\n",
            " -> Таблица сохранена в файл 'RL_csv_output/InkDotVolume.csv'\n",
            "Конвертирую таблицу 'InkDotVolumeWF'...\n",
            " -> Таблица сохранена в файл 'RL_csv_output/InkDotVolumeWF.csv'\n",
            "Конвертирую таблицу 'InkMaker'...\n",
            " -> Таблица сохранена в файл 'RL_csv_output/InkMaker.csv'\n",
            "Конвертирую таблицу 'Inkset'...\n",
            " -> Таблица сохранена в файл 'RL_csv_output/Inkset.csv'\n",
            "Конвертирую таблицу 'InkTypeName'...\n",
            " -> Таблица сохранена в файл 'RL_csv_output/InkTypeName.csv'\n",
            "Конвертирую таблицу 'InkVariation'...\n",
            " -> Таблица сохранена в файл 'RL_csv_output/InkVariation.csv'\n",
            "Конвертирую таблицу 'InkVariationName'...\n",
            " -> Таблица сохранена в файл 'RL_csv_output/InkVariationName.csv'\n",
            "Конвертирую таблицу 'InputProfile'...\n",
            " -> Таблица сохранена в файл 'RL_csv_output/InputProfile.csv'\n",
            "Конвертирую таблицу 'Lang'...\n",
            " -> Таблица сохранена в файл 'RL_csv_output/Lang.csv'\n",
            "Конвертирую таблицу 'MaskDataInfo'...\n",
            " -> Таблица сохранена в файл 'RL_csv_output/MaskDataInfo.csv'\n",
            "Конвертирую таблицу 'MediaGroup'...\n",
            " -> Таблица сохранена в файл 'RL_csv_output/MediaGroup.csv'\n",
            "Конвертирую таблицу 'MediaMaterial'...\n",
            " -> Таблица сохранена в файл 'RL_csv_output/MediaMaterial.csv'\n",
            "Конвертирую таблицу 'MediaName'...\n",
            " -> Таблица сохранена в файл 'RL_csv_output/MediaName.csv'\n",
            "Конвертирую таблицу 'Model'...\n",
            " -> Таблица сохранена в файл 'RL_csv_output/Model.csv'\n",
            "Конвертирую таблицу 'ModelUseInk'...\n",
            " -> Таблица сохранена в файл 'RL_csv_output/ModelUseInk.csv'\n",
            "Конвертирую таблицу 'ModelUseSpecialColorset'...\n",
            " -> Таблица сохранена в файл 'RL_csv_output/ModelUseSpecialColorset.csv'\n",
            "Конвертирую таблицу 'OutputSetting'...\n",
            " -> Таблица сохранена в файл 'RL_csv_output/OutputSetting.csv'\n",
            "Конвертирую таблицу 'Pass'...\n",
            " -> Таблица сохранена в файл 'RL_csv_output/Pass.csv'\n",
            "Конвертирую таблицу 'ProfileCodeManage'...\n",
            " -> Таблица сохранена в файл 'RL_csv_output/ProfileCodeManage.csv'\n",
            "Конвертирую таблицу 'SeparationName'...\n",
            " -> Таблица сохранена в файл 'RL_csv_output/SeparationName.csv'\n",
            "Конвертирую таблицу 'SpecialColorsetCode'...\n",
            " -> Таблица сохранена в файл 'RL_csv_output/SpecialColorsetCode.csv'\n",
            "Конвертирую таблицу 'SpecialColorsetName'...\n",
            " -> Таблица сохранена в файл 'RL_csv_output/SpecialColorsetName.csv'\n",
            "Конвертирую таблицу 'StatusInkset'...\n",
            " -> Таблица сохранена в файл 'RL_csv_output/StatusInkset.csv'\n",
            "Конвертирую таблицу 'UvMode_Localize'...\n",
            " -> Таблица сохранена в файл 'RL_csv_output/UvMode_Localize.csv'\n",
            "Конвертирую таблицу 'Waveform'...\n",
            " -> Таблица сохранена в файл 'RL_csv_output/Waveform.csv'\n",
            "Конвертирую таблицу 'AliasOutputSettingName'...\n",
            " -> Таблица сохранена в файл 'RL_csv_output/AliasOutputSettingName.csv'\n",
            "Конвертирую таблицу 'DotType'...\n",
            " -> Таблица сохранена в файл 'RL_csv_output/DotType.csv'\n",
            "Конвертирую таблицу 'InkDotVolumeSD'...\n",
            " -> Таблица сохранена в файл 'RL_csv_output/InkDotVolumeSD.csv'\n",
            "Конвертирую таблицу 'MediaName_MPM'...\n",
            " -> Таблица сохранена в файл 'RL_csv_output/MediaName_MPM.csv'\n",
            "Конвертирую таблицу 'Uv_Illumination'...\n",
            " -> Таблица сохранена в файл 'RL_csv_output/Uv_Illumination.csv'\n",
            "\n",
            "Все таблицы успешно сконвертированы!\n"
          ]
        }
      ],
      "source": [
        "import pandas_access\n",
        "import pandas as pd\n",
        "import os\n",
        "\n",
        "# Проверяем, был ли файл загружен на предыдущем шаге\n",
        "if 'mdb_file_name' not in locals() or not os.path.exists(mdb_file_name):\n",
        "    print(\"Ошибка: файл .mdb не найден. Пожалуйста, вернитесь к Шагу 2 и загрузите файл.\")\n",
        "else:\n",
        "    output_dir = 'RL_csv_output'\n",
        "    if not os.path.exists(output_dir):\n",
        "        os.makedirs(output_dir)\n",
        "\n",
        "    try:\n",
        "        # Получаем список таблиц в файле MDB\n",
        "        table_names = pandas_access.list_tables(mdb_file_name)\n",
        "        print(f\"Найдены таблицы: {', '.join(table_names)}\\n\")\n",
        "\n",
        "        # Читаем каждую таблицу и сохраняем в CSV\n",
        "        for table in table_names:\n",
        "          try:\n",
        "            print(f\"Конвертирую таблицу '{table}'...\")\n",
        "            df = pandas_access.read_table(mdb_file_name, table)\n",
        "            # Создаем безопасное имя файла\n",
        "            csv_file_name = f\"{table.replace(' ', '_')}.csv\"\n",
        "            csv_path = os.path.join(output_dir, csv_file_name)\n",
        "\n",
        "            df.to_csv(csv_path, index=False, encoding='utf-8')\n",
        "            print(f\" -> Таблица сохранена в файл '{csv_path}'\")\n",
        "          except:\n",
        "            print(f\" -> Ошибка при конвертации таблицы '{table}'\")\n",
        "        print(\"\\nВсе таблицы успешно сконвертированы!\")\n",
        "\n",
        "    except Exception as e:\n",
        "        print(f\"\\nПроизошла ошибка при обработке файла: {e}\")\n",
        "        print(\"Возможно, файл поврежден или имеет неподдерживаемый формат.\")"
      ]
    },
    {
      "cell_type": "markdown",
      "metadata": {
        "id": "cbp9O7DTCehL"
      },
      "source": [
        "### Шаг 4: Скачивание CSV-файлов в виде ZIP-архива\n",
        "\n",
        "Последний шаг! Запустите эту ячейку, чтобы упаковать все созданные CSV-файлы в один zip-архив `csv_files.zip` и скачать его на ваш компьютер."
      ]
    },
    {
      "cell_type": "code",
      "execution_count": null,
      "metadata": {
        "colab": {
          "base_uri": "https://localhost:8080/",
          "height": 53
        },
        "id": "iCEbi4xSCehM",
        "outputId": "9e8ad4ae-4862-4367-d721-aaee74e6cef0"
      },
      "outputs": [
        {
          "name": "stdout",
          "output_type": "stream",
          "text": [
            "Архивирую папку 'RL_csv_output'...\n",
            "Архив 'RL_csv_files.zip' создан. Начинаю скачивание...\n"
          ]
        },
        {
          "data": {
            "application/javascript": [
              "\n",
              "    async function download(id, filename, size) {\n",
              "      if (!google.colab.kernel.accessAllowed) {\n",
              "        return;\n",
              "      }\n",
              "      const div = document.createElement('div');\n",
              "      const label = document.createElement('label');\n",
              "      label.textContent = `Downloading \"${filename}\": `;\n",
              "      div.appendChild(label);\n",
              "      const progress = document.createElement('progress');\n",
              "      progress.max = size;\n",
              "      div.appendChild(progress);\n",
              "      document.body.appendChild(div);\n",
              "\n",
              "      const buffers = [];\n",
              "      let downloaded = 0;\n",
              "\n",
              "      const channel = await google.colab.kernel.comms.open(id);\n",
              "      // Send a message to notify the kernel that we're ready.\n",
              "      channel.send({})\n",
              "\n",
              "      for await (const message of channel.messages) {\n",
              "        // Send a message to notify the kernel that we're ready.\n",
              "        channel.send({})\n",
              "        if (message.buffers) {\n",
              "          for (const buffer of message.buffers) {\n",
              "            buffers.push(buffer);\n",
              "            downloaded += buffer.byteLength;\n",
              "            progress.value = downloaded;\n",
              "          }\n",
              "        }\n",
              "      }\n",
              "      const blob = new Blob(buffers, {type: 'application/binary'});\n",
              "      const a = document.createElement('a');\n",
              "      a.href = window.URL.createObjectURL(blob);\n",
              "      a.download = filename;\n",
              "      div.appendChild(a);\n",
              "      a.click();\n",
              "      div.remove();\n",
              "    }\n",
              "  "
            ],
            "text/plain": [
              "<IPython.core.display.Javascript object>"
            ]
          },
          "metadata": {},
          "output_type": "display_data"
        },
        {
          "data": {
            "application/javascript": [
              "download(\"download_727d5ec4-9a3a-40eb-814c-5b5ba5b853a9\", \"RL_csv_files.zip\", 82154)"
            ],
            "text/plain": [
              "<IPython.core.display.Javascript object>"
            ]
          },
          "metadata": {},
          "output_type": "display_data"
        }
      ],
      "source": [
        "import shutil\n",
        "\n",
        "output_dir = 'RL_csv_output'\n",
        "zip_filename = 'RL_csv_files'\n",
        "\n",
        "if os.path.exists(output_dir) and os.listdir(output_dir):\n",
        "    print(f\"Архивирую папку '{output_dir}'...\")\n",
        "    shutil.make_archive(zip_filename, 'zip', output_dir)\n",
        "    print(f\"Архив '{zip_filename}.zip' создан. Начинаю скачивание...\")\n",
        "    files.download(f'{zip_filename}.zip')\n",
        "else:\n",
        "    print(\"Не найдено файлов для архивации. Убедитесь, что Шаг 3 выполнен без ошибок.\")"
      ]
    }
  ],
  "metadata": {
    "colab": {
      "provenance": [],
      "include_colab_link": true
    },
    "kernelspec": {
      "display_name": "Python 3",
      "language": "python",
      "name": "python3"
    },
    "language_info": {
      "codemirror_mode": {
        "name": "ipython",
        "version": 3
      },
      "file_extension": ".py",
      "mimetype": "text/x-python",
      "name": "python",
      "nbconvert_exporter": "python",
      "pygments_lexer": "ipython3",
      "version": "3.10.12"
    }
  },
  "nbformat": 4,
  "nbformat_minor": 0
}